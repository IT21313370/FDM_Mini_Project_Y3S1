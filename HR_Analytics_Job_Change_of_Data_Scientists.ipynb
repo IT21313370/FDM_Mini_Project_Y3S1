{
  "nbformat": 4,
  "nbformat_minor": 0,
  "metadata": {
    "colab": {
      "provenance": []
    },
    "kernelspec": {
      "name": "python3",
      "display_name": "Python 3"
    },
    "language_info": {
      "name": "python"
    }
  },
  "cells": [
    {
      "cell_type": "markdown",
      "source": [
        "# FDM Mini Project - Group 09\n",
        "\n",
        "### HR Analytics: Job Change of Data Scientists\n",
        "\n",
        "<img src='https://blog.itsyourskills.com/wp-content/uploads/2020/01/HR-Analytics.jpg' width=600 />"
      ],
      "metadata": {
        "id": "H2MeH1o7-_pU"
      }
    },
    {
      "cell_type": "code",
      "execution_count": null,
      "metadata": {
        "id": "XhkgKxDz-2Re"
      },
      "outputs": [],
      "source": []
    }
  ]
}